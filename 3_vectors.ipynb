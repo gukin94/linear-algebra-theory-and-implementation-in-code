{
 "cells": [
  {
   "cell_type": "markdown",
   "id": "b5bde312",
   "metadata": {},
   "source": [
    "## 7. Algebraic and geometric interpretations of vectors"
   ]
  },
  {
   "cell_type": "markdown",
   "id": "9935b175",
   "metadata": {},
   "source": [
    "## 8. Vector addition and subtraction"
   ]
  },
  {
   "cell_type": "markdown",
   "id": "0d7cba87",
   "metadata": {},
   "source": [
    "## 9. Vector-scalar multiplication\n",
    "### By the end of this video, you will:\n",
    "* know why numbers are called \"scalars\" in linear algebra.\n",
    "* understand the geometric interpretation of addition and vector-scalar multiplication"
   ]
  },
  {
   "cell_type": "markdown",
   "id": "9ec6883a",
   "metadata": {},
   "source": []
  },
  {
   "cell_type": "markdown",
   "id": "3d1d01c8",
   "metadata": {},
   "source": []
  },
  {
   "cell_type": "markdown",
   "id": "cb29eba4",
   "metadata": {},
   "source": []
  },
  {
   "cell_type": "markdown",
   "id": "f525bbb8",
   "metadata": {},
   "source": []
  },
  {
   "cell_type": "markdown",
   "id": "39fca3f4",
   "metadata": {},
   "source": []
  },
  {
   "cell_type": "markdown",
   "id": "099bfc05",
   "metadata": {},
   "source": []
  },
  {
   "cell_type": "markdown",
   "id": "30ced48a",
   "metadata": {},
   "source": []
  },
  {
   "cell_type": "markdown",
   "id": "2cf3df09",
   "metadata": {},
   "source": []
  },
  {
   "cell_type": "markdown",
   "id": "cc416d30",
   "metadata": {},
   "source": []
  },
  {
   "cell_type": "markdown",
   "id": "57ad2c56",
   "metadata": {},
   "source": []
  },
  {
   "cell_type": "markdown",
   "id": "7ec31394",
   "metadata": {},
   "source": []
  }
 ],
 "metadata": {
  "kernelspec": {
   "display_name": "Python 3 (ipykernel)",
   "language": "python",
   "name": "python3"
  },
  "language_info": {
   "codemirror_mode": {
    "name": "ipython",
    "version": 3
   },
   "file_extension": ".py",
   "mimetype": "text/x-python",
   "name": "python",
   "nbconvert_exporter": "python",
   "pygments_lexer": "ipython3",
   "version": "3.9.12"
  }
 },
 "nbformat": 4,
 "nbformat_minor": 5
}
