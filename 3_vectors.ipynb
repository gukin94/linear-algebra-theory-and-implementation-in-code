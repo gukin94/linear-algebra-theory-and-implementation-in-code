{
 "cells": [
  {
   "cell_type": "code",
   "execution_count": 2,
   "id": "74213cc6",
   "metadata": {},
   "outputs": [],
   "source": [
    "import numpy as np\n",
    "import matplotlib.pyplot as plt"
   ]
  },
  {
   "cell_type": "markdown",
   "id": "54cc330f",
   "metadata": {},
   "source": [
    "## 7. Algebraic and geometric interpretations of vectors"
   ]
  },
  {
   "cell_type": "markdown",
   "id": "e54a3cd5",
   "metadata": {},
   "source": [
    "## 8. Vector addition and subtraction"
   ]
  },
  {
   "cell_type": "markdown",
   "id": "bfe8df9f",
   "metadata": {},
   "source": [
    "## 9. Vector-scalar multiplication\n",
    "### By the end of this video, you will:\n",
    "* know why numbers are called \"scalars\" in linear algebra.\n",
    "* understand the geometric interpretation of addition and vector-scalar multiplication\n",
    "\n",
    "![](./img/la_term.PNG)\n",
    "\n",
    "with greek letters.\n",
    "this idea turns out ot be fundamental insight that leads to igen value decomposition. "
   ]
  },
  {
   "cell_type": "code",
   "execution_count": 6,
   "id": "247ddc24",
   "metadata": {},
   "outputs": [
    {
     "data": {
      "image/png": "[encoded data removed]",
      "text/plain": [
       "<Figure size 432x288 with 1 Axes>"
      ]
     },
     "metadata": {
      "needs_background": "light"
     },
     "output_type": "display_data"
    }
   ],
   "source": [
    "# vector and scalar\n",
    "v1 = np.array([3, -1])  # creating 2-D \n",
    "l = -0.3  # stands for lambda\n",
    "v1m = v1*l\n",
    "\n",
    "# plot \n",
    "plt.plot([0, v1[0]], [0, v1[1]], 'b', label = 'v_1')\n",
    "plt.plot([0, v1m[0]], [0, v1m[1]], 'r:', label = '$\\lambda$ v_1')\n",
    "\n",
    "plt.axis('square')\n",
    "axlim = max([abs(max(v1)), abs(max(v1m))])*1.5  # dynamic axis lim\n",
    "plt.axis((-axlim, axlim, -axlim, axlim))\n",
    "plt.grid()\n",
    "plt.legend()\n",
    "plt.show()"
   ]
  },
  {
   "cell_type": "markdown",
   "id": "bb9c7449",
   "metadata": {},
   "source": []
  },
  {
   "cell_type": "markdown",
   "id": "c34d31b9",
   "metadata": {},
   "source": []
  },
  {
   "cell_type": "markdown",
   "id": "5af6bdd6",
   "metadata": {},
   "source": []
  },
  {
   "cell_type": "markdown",
   "id": "24089c46",
   "metadata": {},
   "source": []
  },
  {
   "cell_type": "markdown",
   "id": "472c0eee",
   "metadata": {},
   "source": []
  },
  {
   "cell_type": "markdown",
   "id": "b604e2da",
   "metadata": {},
   "source": []
  },
  {
   "cell_type": "markdown",
   "id": "f324c8d4",
   "metadata": {},
   "source": []
  },
  {
   "cell_type": "markdown",
   "id": "9645ce24",
   "metadata": {},
   "source": []
  },
  {
   "cell_type": "markdown",
   "id": "3d254f55",
   "metadata": {},
   "source": []
  },
  {
   "cell_type": "markdown",
   "id": "716166aa",
   "metadata": {},
   "source": []
  }
 ],
 "metadata": {
  "kernelspec": {
   "display_name": "Python 3 (ipykernel)",
   "language": "python",
   "name": "python3"
  },
  "language_info": {
   "codemirror_mode": {
    "name": "ipython",
    "version": 3
   },
   "file_extension": ".py",
   "mimetype": "text/x-python",
   "name": "python",
   "nbconvert_exporter": "python",
   "pygments_lexer": "ipython3",
   "version": "3.9.12"
  }
 },
 "nbformat": 4,
 "nbformat_minor": 5
}
