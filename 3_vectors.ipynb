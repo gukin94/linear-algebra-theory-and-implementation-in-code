{
 "cells": [
  {
   "cell_type": "code",
   "execution_count": 2,
   "id": "875301b4",
   "metadata": {},
   "outputs": [],
   "source": [
    "import numpy as np\n",
    "import matplotlib.pyplot as plt"
   ]
  },
  {
   "cell_type": "markdown",
   "id": "00cefc98",
   "metadata": {},
   "source": [
    "## 7. Algebraic and geometric interpretations of vectors"
   ]
  },
  {
   "cell_type": "markdown",
   "id": "886cc18b",
   "metadata": {},
   "source": [
    "## 8. Vector addition and subtraction"
   ]
  },
  {
   "cell_type": "markdown",
   "id": "429292f2",
   "metadata": {},
   "source": [
    "## 9. Vector-scalar multiplication\n",
    "### By the end of this video, you will:\n",
    "* know why numbers are called \"scalars\" in linear algebra.\n",
    "* understand the geometric interpretation of addition and vector-scalar multiplication\n",
    "\n",
    "![](./img/la_term.PNG)\n",
    "\n",
    "with greek letters.\n",
    "this idea turns out ot be fundamental insight that leads to igen value decomposition. "
   ]
  },
  {
   "cell_type": "code",
   "execution_count": 6,
   "id": "bb5559c1",
   "metadata": {},
   "outputs": [
    {
     "data": {
      "image/png": "[encoded data removed]",
      "text/plain": [
       "<Figure size 432x288 with 1 Axes>"
      ]
     },
     "metadata": {
      "needs_background": "light"
     },
     "output_type": "display_data"
    }
   ],
   "source": [
    "# vector and scalar\n",
    "v1 = np.array([3, -1])  # creating 2-D \n",
    "l = -0.3  # stands for lambda\n",
    "v1m = v1*l\n",
    "\n",
    "# plot \n",
    "plt.plot([0, v1[0]], [0, v1[1]], 'b', label = 'v_1')\n",
    "plt.plot([0, v1m[0]], [0, v1m[1]], 'r:', label = '$\\lambda$ v_1')\n",
    "\n",
    "plt.axis('square')\n",
    "axlim = max([abs(max(v1)), abs(max(v1m))])*1.5  # dynamic axis lim\n",
    "plt.axis((-axlim, axlim, -axlim, axlim))\n",
    "plt.grid()\n",
    "plt.legend()\n",
    "plt.show()"
   ]
  },
  {
   "cell_type": "markdown",
   "id": "bad22b86",
   "metadata": {},
   "source": [
    "## 10. Vector-vector multiplication: the dot product\n",
    "By the end of this  video, you will:\n",
    "* Know the various notations to indicate the dot product.\n",
    "* compute the dot product algebraically.\n",
    "\n",
    "scalar product 라고도 불린다. 두 벡터간의 관계를 보여준다.\n",
    "\n",
    "$$\\alpha = a\\cdot b = \\left< a, b\\right> = a^{T}b = \\sum_{i=1}^{n}a_ib_i$$\n",
    "\n",
    "$a^Tb$ , this notation looks confused at first. both are column vectors. element wise multiplication and sum.\n",
    "\n",
    "### Dot product (a.k.a. scalar product) example\n",
    "\n",
    "$${\\color{Red}{v = \\begin{pmatrix}1\\\\0\\\\2\\\\5\\\\-2\\end{pmatrix}}}\\quad\n",
    "{\\color{Orange}{w = \\begin{pmatrix}2\\\\8\\\\-6\\\\1\\\\0\\end{pmatrix}}}$$  \n",
    "$$v^Tw=1*2+0*8+2*(-6)+5*1+(-2)*0 \n",
    "= 2-12+5\n",
    "=-5$$\n",
    "\n"
   ]
  },
  {
   "cell_type": "code",
   "execution_count": 3,
   "id": "36daf555",
   "metadata": {},
   "outputs": [
    {
     "name": "stdout",
     "output_type": "stream",
     "text": [
      "32 32 32 32\n"
     ]
    }
   ],
   "source": [
    "import numpy as np\n",
    "v1 = np.array([1, 2, 3, 4, 5])\n",
    "v2 = np.array([0, -4, -3, 6, 5])\n",
    "\n",
    "# method 1\n",
    "dp1 = sum(np.multiply(v1,v2))\n",
    "\n",
    "# method 2\n",
    "dp2 = np.dot(v1,v2)\n",
    "\n",
    "# method 3\n",
    "dp3 = np.matmul(v1,v2)  # matrix multiplication\n",
    "\n",
    "# method 4\n",
    "dp4 = 0  # initialize\n",
    "\n",
    "# Loop over elements\n",
    "for i in range(len(v1)):\n",
    "    # multiply corresponding element and sum\n",
    "    dp4 = dp4 + v1[i]*v2[i]\n",
    "    \n",
    "print(dp1, dp2, dp3, dp4)"
   ]
  },
  {
   "cell_type": "markdown",
   "id": "0d86e443",
   "metadata": {},
   "source": []
  },
  {
   "cell_type": "markdown",
   "id": "5cd5cbb0",
   "metadata": {},
   "source": []
  },
  {
   "cell_type": "markdown",
   "id": "1b0f90f0",
   "metadata": {},
   "source": []
  },
  {
   "cell_type": "markdown",
   "id": "06709922",
   "metadata": {},
   "source": []
  },
  {
   "cell_type": "markdown",
   "id": "1cdbacac",
   "metadata": {},
   "source": []
  },
  {
   "cell_type": "markdown",
   "id": "33964375",
   "metadata": {},
   "source": []
  },
  {
   "cell_type": "markdown",
   "id": "51217fd8",
   "metadata": {},
   "source": []
  },
  {
   "cell_type": "markdown",
   "id": "36f90372",
   "metadata": {},
   "source": []
  }
 ],
 "metadata": {
  "kernelspec": {
   "display_name": "Python 3 (ipykernel)",
   "language": "python",
   "name": "python3"
  },
  "language_info": {
   "codemirror_mode": {
    "name": "ipython",
    "version": 3
   },
   "file_extension": ".py",
   "mimetype": "text/x-python",
   "name": "python",
   "nbconvert_exporter": "python",
   "pygments_lexer": "ipython3",
   "version": "3.9.12"
  }
 },
 "nbformat": 4,
 "nbformat_minor": 5
}
