{
 "cells": [
  {
   "cell_type": "markdown",
   "id": "6eaf2047",
   "metadata": {},
   "source": [
    "## 7. Algebraic and geometric interpretations of vectors"
   ]
  },
  {
   "cell_type": "markdown",
   "id": "6290c06b",
   "metadata": {},
   "source": [
    "## 8. Vector addition and subtraction"
   ]
  },
  {
   "cell_type": "markdown",
   "id": "ed7c5401",
   "metadata": {},
   "source": [
    "## 9. Vector-scalar multiplication\n",
    "### By the end of this video, you will:\n",
    "* know why numbers are called \"scalars\" in linear algebra.\n",
    "* understand the geometric interpretation of addition and vector-scalar multiplication"
   ]
  },
  {
   "cell_type": "markdown",
   "id": "5a28f437",
   "metadata": {},
   "source": []
  },
  {
   "cell_type": "markdown",
   "id": "a3513f83",
   "metadata": {},
   "source": []
  },
  {
   "cell_type": "markdown",
   "id": "6222b749",
   "metadata": {},
   "source": []
  },
  {
   "cell_type": "markdown",
   "id": "92b005ed",
   "metadata": {},
   "source": []
  },
  {
   "cell_type": "markdown",
   "id": "a1424920",
   "metadata": {},
   "source": []
  },
  {
   "cell_type": "markdown",
   "id": "a69498e3",
   "metadata": {},
   "source": []
  },
  {
   "cell_type": "markdown",
   "id": "b3722840",
   "metadata": {},
   "source": []
  },
  {
   "cell_type": "markdown",
   "id": "32f3ac54",
   "metadata": {},
   "source": []
  },
  {
   "cell_type": "markdown",
   "id": "608c71b8",
   "metadata": {},
   "source": []
  },
  {
   "cell_type": "markdown",
   "id": "934cdbd0",
   "metadata": {},
   "source": []
  },
  {
   "cell_type": "markdown",
   "id": "83251138",
   "metadata": {},
   "source": []
  }
 ],
 "metadata": {
  "kernelspec": {
   "display_name": "Python 3 (ipykernel)",
   "language": "python",
   "name": "python3"
  },
  "language_info": {
   "codemirror_mode": {
    "name": "ipython",
    "version": 3
   },
   "file_extension": ".py",
   "mimetype": "text/x-python",
   "name": "python",
   "nbconvert_exporter": "python",
   "pygments_lexer": "ipython3",
   "version": "3.9.12"
  }
 },
 "nbformat": 4,
 "nbformat_minor": 5
}
